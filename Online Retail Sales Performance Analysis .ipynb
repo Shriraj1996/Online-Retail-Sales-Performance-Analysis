{
 "cells": [
  {
   "cell_type": "code",
   "execution_count": 1,
   "id": "5bd179b2",
   "metadata": {},
   "outputs": [],
   "source": [
    "import pandas as pd\n",
    "import numpy as np\n",
    "import matplotlib.pyplot as plt\n",
    "import seaborn as sns\n",
    "from IPython import get_ipython\n",
    "import warnings\n",
    "warnings.filterwarnings(\"ignore\")"
   ]
  },
  {
   "cell_type": "code",
   "execution_count": 2,
   "id": "eff3baa9",
   "metadata": {},
   "outputs": [],
   "source": [
    "data = pd.read_csv('online_retail.csv')"
   ]
  },
  {
   "cell_type": "code",
   "execution_count": 3,
   "id": "faf0217e",
   "metadata": {},
   "outputs": [
    {
     "data": {
      "text/html": [
       "<div>\n",
       "<style scoped>\n",
       "    .dataframe tbody tr th:only-of-type {\n",
       "        vertical-align: middle;\n",
       "    }\n",
       "\n",
       "    .dataframe tbody tr th {\n",
       "        vertical-align: top;\n",
       "    }\n",
       "\n",
       "    .dataframe thead th {\n",
       "        text-align: right;\n",
       "    }\n",
       "</style>\n",
       "<table border=\"1\" class=\"dataframe\">\n",
       "  <thead>\n",
       "    <tr style=\"text-align: right;\">\n",
       "      <th></th>\n",
       "      <th>Invoice</th>\n",
       "      <th>StockCode</th>\n",
       "      <th>Description</th>\n",
       "      <th>Quantity</th>\n",
       "      <th>InvoiceDate</th>\n",
       "      <th>Price</th>\n",
       "      <th>Customer ID</th>\n",
       "      <th>Country</th>\n",
       "    </tr>\n",
       "  </thead>\n",
       "  <tbody>\n",
       "    <tr>\n",
       "      <th>0</th>\n",
       "      <td>489434</td>\n",
       "      <td>85048</td>\n",
       "      <td>15CM CHRISTMAS GLASS BALL 20 LIGHTS</td>\n",
       "      <td>12</td>\n",
       "      <td>01-12-2009 07:45</td>\n",
       "      <td>6.95</td>\n",
       "      <td>13085.0</td>\n",
       "      <td>United Kingdom</td>\n",
       "    </tr>\n",
       "    <tr>\n",
       "      <th>1</th>\n",
       "      <td>489434</td>\n",
       "      <td>79323P</td>\n",
       "      <td>PINK CHERRY LIGHTS</td>\n",
       "      <td>12</td>\n",
       "      <td>01-12-2009 07:45</td>\n",
       "      <td>6.75</td>\n",
       "      <td>13085.0</td>\n",
       "      <td>United Kingdom</td>\n",
       "    </tr>\n",
       "    <tr>\n",
       "      <th>2</th>\n",
       "      <td>489434</td>\n",
       "      <td>79323W</td>\n",
       "      <td>WHITE CHERRY LIGHTS</td>\n",
       "      <td>12</td>\n",
       "      <td>01-12-2009 07:45</td>\n",
       "      <td>6.75</td>\n",
       "      <td>13085.0</td>\n",
       "      <td>United Kingdom</td>\n",
       "    </tr>\n",
       "    <tr>\n",
       "      <th>3</th>\n",
       "      <td>489434</td>\n",
       "      <td>22041</td>\n",
       "      <td>RECORD FRAME 7\" SINGLE SIZE</td>\n",
       "      <td>48</td>\n",
       "      <td>01-12-2009 07:45</td>\n",
       "      <td>2.10</td>\n",
       "      <td>13085.0</td>\n",
       "      <td>United Kingdom</td>\n",
       "    </tr>\n",
       "    <tr>\n",
       "      <th>4</th>\n",
       "      <td>489434</td>\n",
       "      <td>21232</td>\n",
       "      <td>STRAWBERRY CERAMIC TRINKET BOX</td>\n",
       "      <td>24</td>\n",
       "      <td>01-12-2009 07:45</td>\n",
       "      <td>1.25</td>\n",
       "      <td>13085.0</td>\n",
       "      <td>United Kingdom</td>\n",
       "    </tr>\n",
       "  </tbody>\n",
       "</table>\n",
       "</div>"
      ],
      "text/plain": [
       "  Invoice StockCode                          Description  Quantity  \\\n",
       "0  489434     85048  15CM CHRISTMAS GLASS BALL 20 LIGHTS        12   \n",
       "1  489434    79323P                   PINK CHERRY LIGHTS        12   \n",
       "2  489434    79323W                  WHITE CHERRY LIGHTS        12   \n",
       "3  489434     22041         RECORD FRAME 7\" SINGLE SIZE         48   \n",
       "4  489434     21232       STRAWBERRY CERAMIC TRINKET BOX        24   \n",
       "\n",
       "        InvoiceDate  Price  Customer ID         Country  \n",
       "0  01-12-2009 07:45   6.95      13085.0  United Kingdom  \n",
       "1  01-12-2009 07:45   6.75      13085.0  United Kingdom  \n",
       "2  01-12-2009 07:45   6.75      13085.0  United Kingdom  \n",
       "3  01-12-2009 07:45   2.10      13085.0  United Kingdom  \n",
       "4  01-12-2009 07:45   1.25      13085.0  United Kingdom  "
      ]
     },
     "execution_count": 3,
     "metadata": {},
     "output_type": "execute_result"
    }
   ],
   "source": [
    "data.head()"
   ]
  },
  {
   "cell_type": "code",
   "execution_count": 4,
   "id": "46c7dfe2",
   "metadata": {},
   "outputs": [
    {
     "data": {
      "text/html": [
       "<div>\n",
       "<style scoped>\n",
       "    .dataframe tbody tr th:only-of-type {\n",
       "        vertical-align: middle;\n",
       "    }\n",
       "\n",
       "    .dataframe tbody tr th {\n",
       "        vertical-align: top;\n",
       "    }\n",
       "\n",
       "    .dataframe thead th {\n",
       "        text-align: right;\n",
       "    }\n",
       "</style>\n",
       "<table border=\"1\" class=\"dataframe\">\n",
       "  <thead>\n",
       "    <tr style=\"text-align: right;\">\n",
       "      <th></th>\n",
       "      <th>Invoice</th>\n",
       "      <th>StockCode</th>\n",
       "      <th>Description</th>\n",
       "      <th>Quantity</th>\n",
       "      <th>InvoiceDate</th>\n",
       "      <th>Price</th>\n",
       "      <th>Customer ID</th>\n",
       "      <th>Country</th>\n",
       "    </tr>\n",
       "  </thead>\n",
       "  <tbody>\n",
       "    <tr>\n",
       "      <th>1048570</th>\n",
       "      <td>580501</td>\n",
       "      <td>23284</td>\n",
       "      <td>DOORMAT KEEP CALM AND COME IN</td>\n",
       "      <td>2</td>\n",
       "      <td>04-12-2011 13:00</td>\n",
       "      <td>8.25</td>\n",
       "      <td>14546.0</td>\n",
       "      <td>United Kingdom</td>\n",
       "    </tr>\n",
       "    <tr>\n",
       "      <th>1048571</th>\n",
       "      <td>580501</td>\n",
       "      <td>22507</td>\n",
       "      <td>MEMO BOARD RETROSPOT  DESIGN</td>\n",
       "      <td>3</td>\n",
       "      <td>04-12-2011 13:00</td>\n",
       "      <td>4.95</td>\n",
       "      <td>14546.0</td>\n",
       "      <td>United Kingdom</td>\n",
       "    </tr>\n",
       "    <tr>\n",
       "      <th>1048572</th>\n",
       "      <td>580502</td>\n",
       "      <td>22469</td>\n",
       "      <td>HEART OF WICKER SMALL</td>\n",
       "      <td>3</td>\n",
       "      <td>04-12-2011 13:15</td>\n",
       "      <td>1.65</td>\n",
       "      <td>16931.0</td>\n",
       "      <td>United Kingdom</td>\n",
       "    </tr>\n",
       "    <tr>\n",
       "      <th>1048573</th>\n",
       "      <td>580502</td>\n",
       "      <td>23489</td>\n",
       "      <td>VINTAGE BELLS GARLAND</td>\n",
       "      <td>2</td>\n",
       "      <td>04-12-2011 13:15</td>\n",
       "      <td>2.89</td>\n",
       "      <td>16931.0</td>\n",
       "      <td>United Kingdom</td>\n",
       "    </tr>\n",
       "    <tr>\n",
       "      <th>1048574</th>\n",
       "      <td>580502</td>\n",
       "      <td>23046</td>\n",
       "      <td>PAPER LANTERN 9 POINT DELUXE STAR</td>\n",
       "      <td>1</td>\n",
       "      <td>04-12-2011 13:15</td>\n",
       "      <td>6.65</td>\n",
       "      <td>16931.0</td>\n",
       "      <td>United Kingdom</td>\n",
       "    </tr>\n",
       "  </tbody>\n",
       "</table>\n",
       "</div>"
      ],
      "text/plain": [
       "        Invoice StockCode                        Description  Quantity  \\\n",
       "1048570  580501     23284      DOORMAT KEEP CALM AND COME IN         2   \n",
       "1048571  580501     22507       MEMO BOARD RETROSPOT  DESIGN         3   \n",
       "1048572  580502     22469              HEART OF WICKER SMALL         3   \n",
       "1048573  580502     23489              VINTAGE BELLS GARLAND         2   \n",
       "1048574  580502     23046  PAPER LANTERN 9 POINT DELUXE STAR         1   \n",
       "\n",
       "              InvoiceDate  Price  Customer ID         Country  \n",
       "1048570  04-12-2011 13:00   8.25      14546.0  United Kingdom  \n",
       "1048571  04-12-2011 13:00   4.95      14546.0  United Kingdom  \n",
       "1048572  04-12-2011 13:15   1.65      16931.0  United Kingdom  \n",
       "1048573  04-12-2011 13:15   2.89      16931.0  United Kingdom  \n",
       "1048574  04-12-2011 13:15   6.65      16931.0  United Kingdom  "
      ]
     },
     "execution_count": 4,
     "metadata": {},
     "output_type": "execute_result"
    }
   ],
   "source": [
    "data.tail()"
   ]
  },
  {
   "cell_type": "code",
   "execution_count": 5,
   "id": "ad98658c",
   "metadata": {},
   "outputs": [
    {
     "data": {
      "text/plain": [
       "(1048575, 8)"
      ]
     },
     "execution_count": 5,
     "metadata": {},
     "output_type": "execute_result"
    }
   ],
   "source": [
    "data.shape"
   ]
  },
  {
   "cell_type": "code",
   "execution_count": 6,
   "id": "42dcbdc0",
   "metadata": {},
   "outputs": [
    {
     "data": {
      "text/plain": [
       "Index(['Invoice', 'StockCode', 'Description', 'Quantity', 'InvoiceDate',\n",
       "       'Price', 'Customer ID', 'Country'],\n",
       "      dtype='object')"
      ]
     },
     "execution_count": 6,
     "metadata": {},
     "output_type": "execute_result"
    }
   ],
   "source": [
    "data.columns"
   ]
  },
  {
   "cell_type": "code",
   "execution_count": 7,
   "id": "33dc0e35",
   "metadata": {},
   "outputs": [
    {
     "data": {
      "text/plain": [
       "34150"
      ]
     },
     "execution_count": 7,
     "metadata": {},
     "output_type": "execute_result"
    }
   ],
   "source": [
    "data.duplicated().sum()"
   ]
  },
  {
   "cell_type": "code",
   "execution_count": 8,
   "id": "5bc2183e",
   "metadata": {},
   "outputs": [],
   "source": [
    "data = data.drop_duplicates()"
   ]
  },
  {
   "cell_type": "code",
   "execution_count": 9,
   "id": "c70769f6",
   "metadata": {},
   "outputs": [
    {
     "data": {
      "text/plain": [
       "(1014425, 8)"
      ]
     },
     "execution_count": 9,
     "metadata": {},
     "output_type": "execute_result"
    }
   ],
   "source": [
    "data.shape"
   ]
  },
  {
   "cell_type": "code",
   "execution_count": 10,
   "id": "fa0d0136",
   "metadata": {},
   "outputs": [
    {
     "data": {
      "text/plain": [
       "Invoice             0\n",
       "StockCode           0\n",
       "Description      4265\n",
       "Quantity            0\n",
       "InvoiceDate         0\n",
       "Price               0\n",
       "Customer ID    228826\n",
       "Country             0\n",
       "dtype: int64"
      ]
     },
     "execution_count": 10,
     "metadata": {},
     "output_type": "execute_result"
    }
   ],
   "source": [
    "data.isnull().sum()"
   ]
  },
  {
   "cell_type": "code",
   "execution_count": 11,
   "id": "32fd2b73",
   "metadata": {},
   "outputs": [],
   "source": [
    "data = data.drop('Description', axis = 1)"
   ]
  },
  {
   "cell_type": "code",
   "execution_count": 12,
   "id": "82d71e7a",
   "metadata": {},
   "outputs": [
    {
     "data": {
      "text/plain": [
       "(1014425, 7)"
      ]
     },
     "execution_count": 12,
     "metadata": {},
     "output_type": "execute_result"
    }
   ],
   "source": [
    "data.shape"
   ]
  },
  {
   "cell_type": "code",
   "execution_count": 13,
   "id": "98c56130",
   "metadata": {},
   "outputs": [],
   "source": [
    "data['InvoiceDate'] = pd.to_datetime(data['InvoiceDate'])"
   ]
  },
  {
   "cell_type": "code",
   "execution_count": 14,
   "id": "b65b122a",
   "metadata": {},
   "outputs": [
    {
     "name": "stdout",
     "output_type": "stream",
     "text": [
      "<class 'pandas.core.frame.DataFrame'>\n",
      "Int64Index: 1014425 entries, 0 to 1048574\n",
      "Data columns (total 7 columns):\n",
      " #   Column       Non-Null Count    Dtype         \n",
      "---  ------       --------------    -----         \n",
      " 0   Invoice      1014425 non-null  object        \n",
      " 1   StockCode    1014425 non-null  object        \n",
      " 2   Quantity     1014425 non-null  int64         \n",
      " 3   InvoiceDate  1014425 non-null  datetime64[ns]\n",
      " 4   Price        1014425 non-null  float64       \n",
      " 5   Customer ID  785599 non-null   float64       \n",
      " 6   Country      1014425 non-null  object        \n",
      "dtypes: datetime64[ns](1), float64(2), int64(1), object(3)\n",
      "memory usage: 61.9+ MB\n"
     ]
    }
   ],
   "source": [
    "data.info()"
   ]
  },
  {
   "cell_type": "code",
   "execution_count": 15,
   "id": "1af33403",
   "metadata": {},
   "outputs": [
    {
     "data": {
      "text/html": [
       "<div>\n",
       "<style scoped>\n",
       "    .dataframe tbody tr th:only-of-type {\n",
       "        vertical-align: middle;\n",
       "    }\n",
       "\n",
       "    .dataframe tbody tr th {\n",
       "        vertical-align: top;\n",
       "    }\n",
       "\n",
       "    .dataframe thead th {\n",
       "        text-align: right;\n",
       "    }\n",
       "</style>\n",
       "<table border=\"1\" class=\"dataframe\">\n",
       "  <thead>\n",
       "    <tr style=\"text-align: right;\">\n",
       "      <th></th>\n",
       "      <th>Quantity</th>\n",
       "      <th>Price</th>\n",
       "      <th>Customer ID</th>\n",
       "    </tr>\n",
       "  </thead>\n",
       "  <tbody>\n",
       "    <tr>\n",
       "      <th>count</th>\n",
       "      <td>1.014425e+06</td>\n",
       "      <td>1.014425e+06</td>\n",
       "      <td>785599.000000</td>\n",
       "    </tr>\n",
       "    <tr>\n",
       "      <th>mean</th>\n",
       "      <td>1.009725e+01</td>\n",
       "      <td>4.590115e+00</td>\n",
       "      <td>15313.078667</td>\n",
       "    </tr>\n",
       "    <tr>\n",
       "      <th>std</th>\n",
       "      <td>1.352799e+02</td>\n",
       "      <td>1.215813e+02</td>\n",
       "      <td>1695.992802</td>\n",
       "    </tr>\n",
       "    <tr>\n",
       "      <th>min</th>\n",
       "      <td>-7.421500e+04</td>\n",
       "      <td>-5.359436e+04</td>\n",
       "      <td>12346.000000</td>\n",
       "    </tr>\n",
       "    <tr>\n",
       "      <th>25%</th>\n",
       "      <td>1.000000e+00</td>\n",
       "      <td>1.250000e+00</td>\n",
       "      <td>13963.000000</td>\n",
       "    </tr>\n",
       "    <tr>\n",
       "      <th>50%</th>\n",
       "      <td>3.000000e+00</td>\n",
       "      <td>2.100000e+00</td>\n",
       "      <td>15235.000000</td>\n",
       "    </tr>\n",
       "    <tr>\n",
       "      <th>75%</th>\n",
       "      <td>1.000000e+01</td>\n",
       "      <td>4.150000e+00</td>\n",
       "      <td>16788.000000</td>\n",
       "    </tr>\n",
       "    <tr>\n",
       "      <th>max</th>\n",
       "      <td>7.421500e+04</td>\n",
       "      <td>3.897000e+04</td>\n",
       "      <td>18287.000000</td>\n",
       "    </tr>\n",
       "  </tbody>\n",
       "</table>\n",
       "</div>"
      ],
      "text/plain": [
       "           Quantity         Price    Customer ID\n",
       "count  1.014425e+06  1.014425e+06  785599.000000\n",
       "mean   1.009725e+01  4.590115e+00   15313.078667\n",
       "std    1.352799e+02  1.215813e+02    1695.992802\n",
       "min   -7.421500e+04 -5.359436e+04   12346.000000\n",
       "25%    1.000000e+00  1.250000e+00   13963.000000\n",
       "50%    3.000000e+00  2.100000e+00   15235.000000\n",
       "75%    1.000000e+01  4.150000e+00   16788.000000\n",
       "max    7.421500e+04  3.897000e+04   18287.000000"
      ]
     },
     "execution_count": 15,
     "metadata": {},
     "output_type": "execute_result"
    }
   ],
   "source": [
    "data.describe()"
   ]
  },
  {
   "cell_type": "code",
   "execution_count": 16,
   "id": "e3a17441",
   "metadata": {},
   "outputs": [
    {
     "data": {
      "text/plain": [
       "Invoice        52961\n",
       "StockCode       5304\n",
       "Quantity        1048\n",
       "InvoiceDate    47046\n",
       "Price           2784\n",
       "Customer ID     5924\n",
       "Country           43\n",
       "dtype: int64"
      ]
     },
     "execution_count": 16,
     "metadata": {},
     "output_type": "execute_result"
    }
   ],
   "source": [
    "data.nunique()"
   ]
  },
  {
   "cell_type": "code",
   "execution_count": 17,
   "id": "c7af3a13",
   "metadata": {},
   "outputs": [],
   "source": [
    "data['Year'] = pd.DatetimeIndex(data['InvoiceDate']).year"
   ]
  },
  {
   "cell_type": "code",
   "execution_count": 18,
   "id": "6031d9a4",
   "metadata": {},
   "outputs": [
    {
     "data": {
      "text/html": [
       "<div>\n",
       "<style scoped>\n",
       "    .dataframe tbody tr th:only-of-type {\n",
       "        vertical-align: middle;\n",
       "    }\n",
       "\n",
       "    .dataframe tbody tr th {\n",
       "        vertical-align: top;\n",
       "    }\n",
       "\n",
       "    .dataframe thead th {\n",
       "        text-align: right;\n",
       "    }\n",
       "</style>\n",
       "<table border=\"1\" class=\"dataframe\">\n",
       "  <thead>\n",
       "    <tr style=\"text-align: right;\">\n",
       "      <th></th>\n",
       "      <th>Invoice</th>\n",
       "      <th>StockCode</th>\n",
       "      <th>Quantity</th>\n",
       "      <th>InvoiceDate</th>\n",
       "      <th>Price</th>\n",
       "      <th>Customer ID</th>\n",
       "      <th>Country</th>\n",
       "      <th>Year</th>\n",
       "    </tr>\n",
       "  </thead>\n",
       "  <tbody>\n",
       "    <tr>\n",
       "      <th>0</th>\n",
       "      <td>489434</td>\n",
       "      <td>85048</td>\n",
       "      <td>12</td>\n",
       "      <td>2009-01-12 07:45:00</td>\n",
       "      <td>6.95</td>\n",
       "      <td>13085.0</td>\n",
       "      <td>United Kingdom</td>\n",
       "      <td>2009</td>\n",
       "    </tr>\n",
       "    <tr>\n",
       "      <th>1</th>\n",
       "      <td>489434</td>\n",
       "      <td>79323P</td>\n",
       "      <td>12</td>\n",
       "      <td>2009-01-12 07:45:00</td>\n",
       "      <td>6.75</td>\n",
       "      <td>13085.0</td>\n",
       "      <td>United Kingdom</td>\n",
       "      <td>2009</td>\n",
       "    </tr>\n",
       "    <tr>\n",
       "      <th>2</th>\n",
       "      <td>489434</td>\n",
       "      <td>79323W</td>\n",
       "      <td>12</td>\n",
       "      <td>2009-01-12 07:45:00</td>\n",
       "      <td>6.75</td>\n",
       "      <td>13085.0</td>\n",
       "      <td>United Kingdom</td>\n",
       "      <td>2009</td>\n",
       "    </tr>\n",
       "    <tr>\n",
       "      <th>3</th>\n",
       "      <td>489434</td>\n",
       "      <td>22041</td>\n",
       "      <td>48</td>\n",
       "      <td>2009-01-12 07:45:00</td>\n",
       "      <td>2.10</td>\n",
       "      <td>13085.0</td>\n",
       "      <td>United Kingdom</td>\n",
       "      <td>2009</td>\n",
       "    </tr>\n",
       "    <tr>\n",
       "      <th>4</th>\n",
       "      <td>489434</td>\n",
       "      <td>21232</td>\n",
       "      <td>24</td>\n",
       "      <td>2009-01-12 07:45:00</td>\n",
       "      <td>1.25</td>\n",
       "      <td>13085.0</td>\n",
       "      <td>United Kingdom</td>\n",
       "      <td>2009</td>\n",
       "    </tr>\n",
       "  </tbody>\n",
       "</table>\n",
       "</div>"
      ],
      "text/plain": [
       "  Invoice StockCode  Quantity         InvoiceDate  Price  Customer ID  \\\n",
       "0  489434     85048        12 2009-01-12 07:45:00   6.95      13085.0   \n",
       "1  489434    79323P        12 2009-01-12 07:45:00   6.75      13085.0   \n",
       "2  489434    79323W        12 2009-01-12 07:45:00   6.75      13085.0   \n",
       "3  489434     22041        48 2009-01-12 07:45:00   2.10      13085.0   \n",
       "4  489434     21232        24 2009-01-12 07:45:00   1.25      13085.0   \n",
       "\n",
       "          Country  Year  \n",
       "0  United Kingdom  2009  \n",
       "1  United Kingdom  2009  \n",
       "2  United Kingdom  2009  \n",
       "3  United Kingdom  2009  \n",
       "4  United Kingdom  2009  "
      ]
     },
     "execution_count": 18,
     "metadata": {},
     "output_type": "execute_result"
    }
   ],
   "source": [
    "data.head()"
   ]
  },
  {
   "cell_type": "code",
   "execution_count": 19,
   "id": "e40d85a7",
   "metadata": {},
   "outputs": [],
   "source": [
    "Sales = data.loc[data['Quantity'] > 0 & ~(data['Invoice'].str.contains('C'))]"
   ]
  },
  {
   "cell_type": "code",
   "execution_count": 20,
   "id": "c600c3c4",
   "metadata": {},
   "outputs": [
    {
     "data": {
      "text/plain": [
       "(992181, 8)"
      ]
     },
     "execution_count": 20,
     "metadata": {},
     "output_type": "execute_result"
    }
   ],
   "source": [
    "Sales.shape"
   ]
  },
  {
   "cell_type": "code",
   "execution_count": 21,
   "id": "5983e813",
   "metadata": {},
   "outputs": [
    {
     "data": {
      "text/html": [
       "<div>\n",
       "<style scoped>\n",
       "    .dataframe tbody tr th:only-of-type {\n",
       "        vertical-align: middle;\n",
       "    }\n",
       "\n",
       "    .dataframe tbody tr th {\n",
       "        vertical-align: top;\n",
       "    }\n",
       "\n",
       "    .dataframe thead th {\n",
       "        text-align: right;\n",
       "    }\n",
       "</style>\n",
       "<table border=\"1\" class=\"dataframe\">\n",
       "  <thead>\n",
       "    <tr style=\"text-align: right;\">\n",
       "      <th></th>\n",
       "      <th>Invoice</th>\n",
       "      <th>StockCode</th>\n",
       "      <th>Quantity</th>\n",
       "      <th>InvoiceDate</th>\n",
       "      <th>Price</th>\n",
       "      <th>Customer ID</th>\n",
       "      <th>Country</th>\n",
       "      <th>Year</th>\n",
       "    </tr>\n",
       "  </thead>\n",
       "  <tbody>\n",
       "    <tr>\n",
       "      <th>0</th>\n",
       "      <td>489434</td>\n",
       "      <td>85048</td>\n",
       "      <td>12</td>\n",
       "      <td>2009-01-12 07:45:00</td>\n",
       "      <td>6.95</td>\n",
       "      <td>13085.0</td>\n",
       "      <td>United Kingdom</td>\n",
       "      <td>2009</td>\n",
       "    </tr>\n",
       "    <tr>\n",
       "      <th>1</th>\n",
       "      <td>489434</td>\n",
       "      <td>79323P</td>\n",
       "      <td>12</td>\n",
       "      <td>2009-01-12 07:45:00</td>\n",
       "      <td>6.75</td>\n",
       "      <td>13085.0</td>\n",
       "      <td>United Kingdom</td>\n",
       "      <td>2009</td>\n",
       "    </tr>\n",
       "    <tr>\n",
       "      <th>2</th>\n",
       "      <td>489434</td>\n",
       "      <td>79323W</td>\n",
       "      <td>12</td>\n",
       "      <td>2009-01-12 07:45:00</td>\n",
       "      <td>6.75</td>\n",
       "      <td>13085.0</td>\n",
       "      <td>United Kingdom</td>\n",
       "      <td>2009</td>\n",
       "    </tr>\n",
       "    <tr>\n",
       "      <th>3</th>\n",
       "      <td>489434</td>\n",
       "      <td>22041</td>\n",
       "      <td>48</td>\n",
       "      <td>2009-01-12 07:45:00</td>\n",
       "      <td>2.10</td>\n",
       "      <td>13085.0</td>\n",
       "      <td>United Kingdom</td>\n",
       "      <td>2009</td>\n",
       "    </tr>\n",
       "    <tr>\n",
       "      <th>4</th>\n",
       "      <td>489434</td>\n",
       "      <td>21232</td>\n",
       "      <td>24</td>\n",
       "      <td>2009-01-12 07:45:00</td>\n",
       "      <td>1.25</td>\n",
       "      <td>13085.0</td>\n",
       "      <td>United Kingdom</td>\n",
       "      <td>2009</td>\n",
       "    </tr>\n",
       "  </tbody>\n",
       "</table>\n",
       "</div>"
      ],
      "text/plain": [
       "  Invoice StockCode  Quantity         InvoiceDate  Price  Customer ID  \\\n",
       "0  489434     85048        12 2009-01-12 07:45:00   6.95      13085.0   \n",
       "1  489434    79323P        12 2009-01-12 07:45:00   6.75      13085.0   \n",
       "2  489434    79323W        12 2009-01-12 07:45:00   6.75      13085.0   \n",
       "3  489434     22041        48 2009-01-12 07:45:00   2.10      13085.0   \n",
       "4  489434     21232        24 2009-01-12 07:45:00   1.25      13085.0   \n",
       "\n",
       "          Country  Year  \n",
       "0  United Kingdom  2009  \n",
       "1  United Kingdom  2009  \n",
       "2  United Kingdom  2009  \n",
       "3  United Kingdom  2009  \n",
       "4  United Kingdom  2009  "
      ]
     },
     "execution_count": 21,
     "metadata": {},
     "output_type": "execute_result"
    }
   ],
   "source": [
    "Sales.head()"
   ]
  },
  {
   "cell_type": "code",
   "execution_count": 22,
   "id": "c824bbf2",
   "metadata": {},
   "outputs": [
    {
     "data": {
      "text/html": [
       "<div>\n",
       "<style scoped>\n",
       "    .dataframe tbody tr th:only-of-type {\n",
       "        vertical-align: middle;\n",
       "    }\n",
       "\n",
       "    .dataframe tbody tr th {\n",
       "        vertical-align: top;\n",
       "    }\n",
       "\n",
       "    .dataframe thead th {\n",
       "        text-align: right;\n",
       "    }\n",
       "</style>\n",
       "<table border=\"1\" class=\"dataframe\">\n",
       "  <thead>\n",
       "    <tr style=\"text-align: right;\">\n",
       "      <th></th>\n",
       "      <th>Invoice</th>\n",
       "      <th>StockCode</th>\n",
       "      <th>Quantity</th>\n",
       "      <th>InvoiceDate</th>\n",
       "      <th>Price</th>\n",
       "      <th>Customer ID</th>\n",
       "      <th>Country</th>\n",
       "      <th>Year</th>\n",
       "    </tr>\n",
       "  </thead>\n",
       "  <tbody>\n",
       "    <tr>\n",
       "      <th>166389</th>\n",
       "      <td>505162</td>\n",
       "      <td>84519B</td>\n",
       "      <td>2</td>\n",
       "      <td>2010-04-20 12:13:00</td>\n",
       "      <td>2.95</td>\n",
       "      <td>14812.0</td>\n",
       "      <td>United Kingdom</td>\n",
       "      <td>2010</td>\n",
       "    </tr>\n",
       "    <tr>\n",
       "      <th>470320</th>\n",
       "      <td>533740</td>\n",
       "      <td>21090</td>\n",
       "      <td>1</td>\n",
       "      <td>2010-11-18 14:07:00</td>\n",
       "      <td>1.66</td>\n",
       "      <td>NaN</td>\n",
       "      <td>United Kingdom</td>\n",
       "      <td>2010</td>\n",
       "    </tr>\n",
       "    <tr>\n",
       "      <th>407426</th>\n",
       "      <td>528382</td>\n",
       "      <td>85039B</td>\n",
       "      <td>1</td>\n",
       "      <td>2010-10-21 18:01:00</td>\n",
       "      <td>1.66</td>\n",
       "      <td>NaN</td>\n",
       "      <td>United Kingdom</td>\n",
       "      <td>2010</td>\n",
       "    </tr>\n",
       "    <tr>\n",
       "      <th>14356</th>\n",
       "      <td>490533</td>\n",
       "      <td>22058</td>\n",
       "      <td>4</td>\n",
       "      <td>2009-06-12 16:07:00</td>\n",
       "      <td>1.49</td>\n",
       "      <td>17610.0</td>\n",
       "      <td>United Kingdom</td>\n",
       "      <td>2009</td>\n",
       "    </tr>\n",
       "    <tr>\n",
       "      <th>568408</th>\n",
       "      <td>540026</td>\n",
       "      <td>85066</td>\n",
       "      <td>1</td>\n",
       "      <td>2011-04-01 13:25:00</td>\n",
       "      <td>25.49</td>\n",
       "      <td>NaN</td>\n",
       "      <td>United Kingdom</td>\n",
       "      <td>2011</td>\n",
       "    </tr>\n",
       "    <tr>\n",
       "      <th>664132</th>\n",
       "      <td>548203</td>\n",
       "      <td>21669</td>\n",
       "      <td>16</td>\n",
       "      <td>2011-03-29 16:41:00</td>\n",
       "      <td>3.95</td>\n",
       "      <td>NaN</td>\n",
       "      <td>United Kingdom</td>\n",
       "      <td>2011</td>\n",
       "    </tr>\n",
       "    <tr>\n",
       "      <th>275534</th>\n",
       "      <td>516165</td>\n",
       "      <td>85232B</td>\n",
       "      <td>2</td>\n",
       "      <td>2010-07-18 12:20:00</td>\n",
       "      <td>4.95</td>\n",
       "      <td>13566.0</td>\n",
       "      <td>United Kingdom</td>\n",
       "      <td>2010</td>\n",
       "    </tr>\n",
       "    <tr>\n",
       "      <th>134723</th>\n",
       "      <td>502248</td>\n",
       "      <td>22291</td>\n",
       "      <td>1</td>\n",
       "      <td>2010-03-23 14:06:00</td>\n",
       "      <td>2.98</td>\n",
       "      <td>NaN</td>\n",
       "      <td>United Kingdom</td>\n",
       "      <td>2010</td>\n",
       "    </tr>\n",
       "    <tr>\n",
       "      <th>1040299</th>\n",
       "      <td>579750</td>\n",
       "      <td>21498</td>\n",
       "      <td>25</td>\n",
       "      <td>2011-11-30 14:42:00</td>\n",
       "      <td>0.42</td>\n",
       "      <td>13536.0</td>\n",
       "      <td>United Kingdom</td>\n",
       "      <td>2011</td>\n",
       "    </tr>\n",
       "    <tr>\n",
       "      <th>136043</th>\n",
       "      <td>502427</td>\n",
       "      <td>21898</td>\n",
       "      <td>2</td>\n",
       "      <td>2010-03-24 12:33:00</td>\n",
       "      <td>2.95</td>\n",
       "      <td>17019.0</td>\n",
       "      <td>United Kingdom</td>\n",
       "      <td>2010</td>\n",
       "    </tr>\n",
       "  </tbody>\n",
       "</table>\n",
       "</div>"
      ],
      "text/plain": [
       "        Invoice StockCode  Quantity         InvoiceDate  Price  Customer ID  \\\n",
       "166389   505162    84519B         2 2010-04-20 12:13:00   2.95      14812.0   \n",
       "470320   533740     21090         1 2010-11-18 14:07:00   1.66          NaN   \n",
       "407426   528382    85039B         1 2010-10-21 18:01:00   1.66          NaN   \n",
       "14356    490533     22058         4 2009-06-12 16:07:00   1.49      17610.0   \n",
       "568408   540026     85066         1 2011-04-01 13:25:00  25.49          NaN   \n",
       "664132   548203     21669        16 2011-03-29 16:41:00   3.95          NaN   \n",
       "275534   516165    85232B         2 2010-07-18 12:20:00   4.95      13566.0   \n",
       "134723   502248     22291         1 2010-03-23 14:06:00   2.98          NaN   \n",
       "1040299  579750     21498        25 2011-11-30 14:42:00   0.42      13536.0   \n",
       "136043   502427     21898         2 2010-03-24 12:33:00   2.95      17019.0   \n",
       "\n",
       "                Country  Year  \n",
       "166389   United Kingdom  2010  \n",
       "470320   United Kingdom  2010  \n",
       "407426   United Kingdom  2010  \n",
       "14356    United Kingdom  2009  \n",
       "568408   United Kingdom  2011  \n",
       "664132   United Kingdom  2011  \n",
       "275534   United Kingdom  2010  \n",
       "134723   United Kingdom  2010  \n",
       "1040299  United Kingdom  2011  \n",
       "136043   United Kingdom  2010  "
      ]
     },
     "execution_count": 22,
     "metadata": {},
     "output_type": "execute_result"
    }
   ],
   "source": [
    "Sales.sample(10)"
   ]
  },
  {
   "cell_type": "code",
   "execution_count": 23,
   "id": "0bfb98e2",
   "metadata": {},
   "outputs": [],
   "source": [
    "Sales_New = Sales.copy()"
   ]
  },
  {
   "cell_type": "code",
   "execution_count": 42,
   "id": "b88e64bb",
   "metadata": {},
   "outputs": [],
   "source": [
    "Sales_New['Revenue'] = Sales_New['Quantity'] * Sales_New['Price']"
   ]
  },
  {
   "cell_type": "code",
   "execution_count": 43,
   "id": "2dba0fab",
   "metadata": {},
   "outputs": [
    {
     "data": {
      "text/html": [
       "<div>\n",
       "<style scoped>\n",
       "    .dataframe tbody tr th:only-of-type {\n",
       "        vertical-align: middle;\n",
       "    }\n",
       "\n",
       "    .dataframe tbody tr th {\n",
       "        vertical-align: top;\n",
       "    }\n",
       "\n",
       "    .dataframe thead th {\n",
       "        text-align: right;\n",
       "    }\n",
       "</style>\n",
       "<table border=\"1\" class=\"dataframe\">\n",
       "  <thead>\n",
       "    <tr style=\"text-align: right;\">\n",
       "      <th></th>\n",
       "      <th>Invoice</th>\n",
       "      <th>StockCode</th>\n",
       "      <th>Quantity</th>\n",
       "      <th>InvoiceDate</th>\n",
       "      <th>Price</th>\n",
       "      <th>Customer ID</th>\n",
       "      <th>Country</th>\n",
       "      <th>Year</th>\n",
       "      <th>Revenue</th>\n",
       "    </tr>\n",
       "  </thead>\n",
       "  <tbody>\n",
       "    <tr>\n",
       "      <th>0</th>\n",
       "      <td>489434</td>\n",
       "      <td>85048</td>\n",
       "      <td>12</td>\n",
       "      <td>2009-01-12 07:45:00</td>\n",
       "      <td>6.95</td>\n",
       "      <td>13085.0</td>\n",
       "      <td>United Kingdom</td>\n",
       "      <td>2009</td>\n",
       "      <td>83.4</td>\n",
       "    </tr>\n",
       "    <tr>\n",
       "      <th>1</th>\n",
       "      <td>489434</td>\n",
       "      <td>79323P</td>\n",
       "      <td>12</td>\n",
       "      <td>2009-01-12 07:45:00</td>\n",
       "      <td>6.75</td>\n",
       "      <td>13085.0</td>\n",
       "      <td>United Kingdom</td>\n",
       "      <td>2009</td>\n",
       "      <td>81.0</td>\n",
       "    </tr>\n",
       "    <tr>\n",
       "      <th>2</th>\n",
       "      <td>489434</td>\n",
       "      <td>79323W</td>\n",
       "      <td>12</td>\n",
       "      <td>2009-01-12 07:45:00</td>\n",
       "      <td>6.75</td>\n",
       "      <td>13085.0</td>\n",
       "      <td>United Kingdom</td>\n",
       "      <td>2009</td>\n",
       "      <td>81.0</td>\n",
       "    </tr>\n",
       "    <tr>\n",
       "      <th>3</th>\n",
       "      <td>489434</td>\n",
       "      <td>22041</td>\n",
       "      <td>48</td>\n",
       "      <td>2009-01-12 07:45:00</td>\n",
       "      <td>2.10</td>\n",
       "      <td>13085.0</td>\n",
       "      <td>United Kingdom</td>\n",
       "      <td>2009</td>\n",
       "      <td>100.8</td>\n",
       "    </tr>\n",
       "    <tr>\n",
       "      <th>4</th>\n",
       "      <td>489434</td>\n",
       "      <td>21232</td>\n",
       "      <td>24</td>\n",
       "      <td>2009-01-12 07:45:00</td>\n",
       "      <td>1.25</td>\n",
       "      <td>13085.0</td>\n",
       "      <td>United Kingdom</td>\n",
       "      <td>2009</td>\n",
       "      <td>30.0</td>\n",
       "    </tr>\n",
       "  </tbody>\n",
       "</table>\n",
       "</div>"
      ],
      "text/plain": [
       "  Invoice StockCode  Quantity         InvoiceDate  Price  Customer ID  \\\n",
       "0  489434     85048        12 2009-01-12 07:45:00   6.95      13085.0   \n",
       "1  489434    79323P        12 2009-01-12 07:45:00   6.75      13085.0   \n",
       "2  489434    79323W        12 2009-01-12 07:45:00   6.75      13085.0   \n",
       "3  489434     22041        48 2009-01-12 07:45:00   2.10      13085.0   \n",
       "4  489434     21232        24 2009-01-12 07:45:00   1.25      13085.0   \n",
       "\n",
       "          Country  Year  Revenue  \n",
       "0  United Kingdom  2009     83.4  \n",
       "1  United Kingdom  2009     81.0  \n",
       "2  United Kingdom  2009     81.0  \n",
       "3  United Kingdom  2009    100.8  \n",
       "4  United Kingdom  2009     30.0  "
      ]
     },
     "execution_count": 43,
     "metadata": {},
     "output_type": "execute_result"
    }
   ],
   "source": [
    "Sales_New.head()"
   ]
  },
  {
   "cell_type": "code",
   "execution_count": 44,
   "id": "77e64f90",
   "metadata": {},
   "outputs": [],
   "source": [
    "Sales_Mean = Sales_New.groupby('Year').mean()['Revenue']"
   ]
  },
  {
   "cell_type": "code",
   "execution_count": 45,
   "id": "730168c3",
   "metadata": {},
   "outputs": [
    {
     "data": {
      "text/plain": [
       "Year\n",
       "2009    18.856094\n",
       "2010    20.115675\n",
       "2011    19.894068\n",
       "Name: Revenue, dtype: float64"
      ]
     },
     "execution_count": 45,
     "metadata": {},
     "output_type": "execute_result"
    }
   ],
   "source": [
    "Sales_Mean.head()"
   ]
  },
  {
   "cell_type": "code",
   "execution_count": 46,
   "id": "b3993fd4",
   "metadata": {},
   "outputs": [],
   "source": [
    "Sales_Mean = Sales_Mean.reset_index()"
   ]
  },
  {
   "cell_type": "code",
   "execution_count": 47,
   "id": "03a1bddb",
   "metadata": {},
   "outputs": [
    {
     "data": {
      "text/html": [
       "<div>\n",
       "<style scoped>\n",
       "    .dataframe tbody tr th:only-of-type {\n",
       "        vertical-align: middle;\n",
       "    }\n",
       "\n",
       "    .dataframe tbody tr th {\n",
       "        vertical-align: top;\n",
       "    }\n",
       "\n",
       "    .dataframe thead th {\n",
       "        text-align: right;\n",
       "    }\n",
       "</style>\n",
       "<table border=\"1\" class=\"dataframe\">\n",
       "  <thead>\n",
       "    <tr style=\"text-align: right;\">\n",
       "      <th></th>\n",
       "      <th>Year</th>\n",
       "      <th>Revenue</th>\n",
       "    </tr>\n",
       "  </thead>\n",
       "  <tbody>\n",
       "    <tr>\n",
       "      <th>0</th>\n",
       "      <td>2009</td>\n",
       "      <td>18.856094</td>\n",
       "    </tr>\n",
       "    <tr>\n",
       "      <th>1</th>\n",
       "      <td>2010</td>\n",
       "      <td>20.115675</td>\n",
       "    </tr>\n",
       "    <tr>\n",
       "      <th>2</th>\n",
       "      <td>2011</td>\n",
       "      <td>19.894068</td>\n",
       "    </tr>\n",
       "  </tbody>\n",
       "</table>\n",
       "</div>"
      ],
      "text/plain": [
       "   Year    Revenue\n",
       "0  2009  18.856094\n",
       "1  2010  20.115675\n",
       "2  2011  19.894068"
      ]
     },
     "execution_count": 47,
     "metadata": {},
     "output_type": "execute_result"
    }
   ],
   "source": [
    "Sales_Mean.head()"
   ]
  },
  {
   "cell_type": "code",
   "execution_count": 48,
   "id": "a06b4f9f",
   "metadata": {},
   "outputs": [
    {
     "data": {
      "image/png": "[encoded data removed]",
      "text/plain": [
       "<Figure size 1080x432 with 1 Axes>"
      ]
     },
     "metadata": {
      "needs_background": "light"
     },
     "output_type": "display_data"
    }
   ],
   "source": [
    "plt.figure(figsize=(15,6))\n",
    "sns.lineplot(Sales_Mean['Year'], Sales_Mean['Revenue'], marker='o')\n",
    "plt.title('Average of Revenue per Year', fontsize = 16)\n",
    "plt.xlabel('Year', fontsize = 12)\n",
    "plt.ylabel('Average of Revenue', fontsize = 12)\n",
    "plt.grid(color='darkgrey', linestyle=':', linewidth=0.5)\n",
    "plt.gca().set_xticks([2009, 2010, 2011])\n",
    "plt.gca().spines['top'].set_visible(False)\n",
    "plt.gca().spines['right'].set_visible(False)"
   ]
  },
  {
   "cell_type": "code",
   "execution_count": 49,
   "id": "2c976073",
   "metadata": {},
   "outputs": [],
   "source": [
    "Sales_Finish = Sales_New[Sales_New['Customer ID'].notna()]"
   ]
  },
  {
   "cell_type": "code",
   "execution_count": 50,
   "id": "752492f3",
   "metadata": {},
   "outputs": [
    {
     "data": {
      "text/plain": [
       "Invoice        767439\n",
       "StockCode      767439\n",
       "Quantity       767439\n",
       "InvoiceDate    767439\n",
       "Price          767439\n",
       "Customer ID    767439\n",
       "Country        767439\n",
       "Year           767439\n",
       "Revenue        767439\n",
       "dtype: int64"
      ]
     },
     "execution_count": 50,
     "metadata": {},
     "output_type": "execute_result"
    }
   ],
   "source": [
    "Sales_Finish.count()"
   ]
  },
  {
   "cell_type": "code",
   "execution_count": 51,
   "id": "9bfe7ff5",
   "metadata": {},
   "outputs": [],
   "source": [
    "Purchase_Canceled = data[data['Invoice'].str.contains('C')]"
   ]
  },
  {
   "cell_type": "code",
   "execution_count": 52,
   "id": "dc1d6dc6",
   "metadata": {},
   "outputs": [
    {
     "data": {
      "text/plain": [
       "Invoice        18872\n",
       "StockCode      18872\n",
       "Quantity       18872\n",
       "InvoiceDate    18872\n",
       "Price          18872\n",
       "Customer ID    18160\n",
       "Country        18872\n",
       "Year           18872\n",
       "dtype: int64"
      ]
     },
     "execution_count": 52,
     "metadata": {},
     "output_type": "execute_result"
    }
   ],
   "source": [
    "Purchase_Canceled.count()"
   ]
  },
  {
   "cell_type": "code",
   "execution_count": 53,
   "id": "651d663a",
   "metadata": {},
   "outputs": [],
   "source": [
    "Count_Finished = Sales_Finish.groupby('Year').count()['Invoice'].reset_index()"
   ]
  },
  {
   "cell_type": "code",
   "execution_count": 54,
   "id": "0daa4d3f",
   "metadata": {},
   "outputs": [
    {
     "data": {
      "text/html": [
       "<div>\n",
       "<style scoped>\n",
       "    .dataframe tbody tr th:only-of-type {\n",
       "        vertical-align: middle;\n",
       "    }\n",
       "\n",
       "    .dataframe tbody tr th {\n",
       "        vertical-align: top;\n",
       "    }\n",
       "\n",
       "    .dataframe thead th {\n",
       "        text-align: right;\n",
       "    }\n",
       "</style>\n",
       "<table border=\"1\" class=\"dataframe\">\n",
       "  <thead>\n",
       "    <tr style=\"text-align: right;\">\n",
       "      <th></th>\n",
       "      <th>Year</th>\n",
       "      <th>Invoice</th>\n",
       "    </tr>\n",
       "  </thead>\n",
       "  <tbody>\n",
       "    <tr>\n",
       "      <th>0</th>\n",
       "      <td>2009</td>\n",
       "      <td>30279</td>\n",
       "    </tr>\n",
       "    <tr>\n",
       "      <th>1</th>\n",
       "      <td>2010</td>\n",
       "      <td>382156</td>\n",
       "    </tr>\n",
       "    <tr>\n",
       "      <th>2</th>\n",
       "      <td>2011</td>\n",
       "      <td>355004</td>\n",
       "    </tr>\n",
       "  </tbody>\n",
       "</table>\n",
       "</div>"
      ],
      "text/plain": [
       "   Year  Invoice\n",
       "0  2009    30279\n",
       "1  2010   382156\n",
       "2  2011   355004"
      ]
     },
     "execution_count": 54,
     "metadata": {},
     "output_type": "execute_result"
    }
   ],
   "source": [
    "Count_Finished"
   ]
  },
  {
   "cell_type": "code",
   "execution_count": 55,
   "id": "8546b211",
   "metadata": {},
   "outputs": [],
   "source": [
    "Count_Canceled = Purchase_Canceled.groupby('Year').count()['Invoice'].reset_index()"
   ]
  },
  {
   "cell_type": "code",
   "execution_count": 56,
   "id": "c22b98c9",
   "metadata": {},
   "outputs": [
    {
     "data": {
      "text/html": [
       "<div>\n",
       "<style scoped>\n",
       "    .dataframe tbody tr th:only-of-type {\n",
       "        vertical-align: middle;\n",
       "    }\n",
       "\n",
       "    .dataframe tbody tr th {\n",
       "        vertical-align: top;\n",
       "    }\n",
       "\n",
       "    .dataframe thead th {\n",
       "        text-align: right;\n",
       "    }\n",
       "</style>\n",
       "<table border=\"1\" class=\"dataframe\">\n",
       "  <thead>\n",
       "    <tr style=\"text-align: right;\">\n",
       "      <th></th>\n",
       "      <th>Year</th>\n",
       "      <th>Invoice</th>\n",
       "    </tr>\n",
       "  </thead>\n",
       "  <tbody>\n",
       "    <tr>\n",
       "      <th>0</th>\n",
       "      <td>2009</td>\n",
       "      <td>1013</td>\n",
       "    </tr>\n",
       "    <tr>\n",
       "      <th>1</th>\n",
       "      <td>2010</td>\n",
       "      <td>9559</td>\n",
       "    </tr>\n",
       "    <tr>\n",
       "      <th>2</th>\n",
       "      <td>2011</td>\n",
       "      <td>8300</td>\n",
       "    </tr>\n",
       "  </tbody>\n",
       "</table>\n",
       "</div>"
      ],
      "text/plain": [
       "   Year  Invoice\n",
       "0  2009     1013\n",
       "1  2010     9559\n",
       "2  2011     8300"
      ]
     },
     "execution_count": 56,
     "metadata": {},
     "output_type": "execute_result"
    }
   ],
   "source": [
    "Count_Canceled"
   ]
  },
  {
   "cell_type": "code",
   "execution_count": 57,
   "id": "de3f899c",
   "metadata": {},
   "outputs": [
    {
     "data": {
      "image/png": "[encoded data removed]",
      "text/plain": [
       "<Figure size 432x288 with 1 Axes>"
      ]
     },
     "metadata": {
      "needs_background": "light"
     },
     "output_type": "display_data"
    }
   ],
   "source": [
    "sns.lineplot(Count_Finished['Year'], Count_Finished['Invoice'],\n",
    "marker = 'o', color = 'green', label = 'Finished')\n",
    "sns.lineplot(Count_Canceled['Year'], Count_Canceled['Invoice'],\n",
    "marker = 'o', color = 'red', label = 'Cancel')\n",
    "plt.title('Finished & Cancel', fontsize = 16)\n",
    "plt.xlabel('Year', fontsize = 12)\n",
    "plt.ylabel('Invoice', fontsize = 12)\n",
    "plt.grid(color='darkgrey', linestyle=':', linewidth=0.5)\n",
    "plt.legend()\n",
    "plt.gca().set_xticks([2009, 2010, 2011])\n",
    "plt.gca().spines['top'].set_visible(False)\n",
    "plt.gca().spines['right'].set_visible(False)"
   ]
  },
  {
   "cell_type": "code",
   "execution_count": 61,
   "id": "bc235c0e",
   "metadata": {},
   "outputs": [
    {
     "data": {
      "text/html": [
       "<div>\n",
       "<style scoped>\n",
       "    .dataframe tbody tr th:only-of-type {\n",
       "        vertical-align: middle;\n",
       "    }\n",
       "\n",
       "    .dataframe tbody tr th {\n",
       "        vertical-align: top;\n",
       "    }\n",
       "\n",
       "    .dataframe thead th {\n",
       "        text-align: right;\n",
       "    }\n",
       "</style>\n",
       "<table border=\"1\" class=\"dataframe\">\n",
       "  <thead>\n",
       "    <tr style=\"text-align: right;\">\n",
       "      <th></th>\n",
       "      <th>Year</th>\n",
       "      <th>Cancellation_Rate</th>\n",
       "    </tr>\n",
       "  </thead>\n",
       "  <tbody>\n",
       "    <tr>\n",
       "      <th>0</th>\n",
       "      <td>2009</td>\n",
       "      <td>0.099860</td>\n",
       "    </tr>\n",
       "    <tr>\n",
       "      <th>1</th>\n",
       "      <td>2010</td>\n",
       "      <td>0.942307</td>\n",
       "    </tr>\n",
       "    <tr>\n",
       "      <th>2</th>\n",
       "      <td>2011</td>\n",
       "      <td>0.818198</td>\n",
       "    </tr>\n",
       "  </tbody>\n",
       "</table>\n",
       "</div>"
      ],
      "text/plain": [
       "   Year  Cancellation_Rate\n",
       "0  2009           0.099860\n",
       "1  2010           0.942307\n",
       "2  2011           0.818198"
      ]
     },
     "execution_count": 61,
     "metadata": {},
     "output_type": "execute_result"
    }
   ],
   "source": [
    "Cancellation_Rate = Count_Canceled['Invoice'] / data['Invoice'].count() * 100\n",
    "Cancellation = Count_Canceled.assign(Cancellation_Rate=Count_Canceled['Invoice'] / data['Invoice'].count() * 100)\n",
    "Cancellation[['Year', 'Cancellation_Rate']]"
   ]
  },
  {
   "cell_type": "code",
   "execution_count": 62,
   "id": "229dbf9b",
   "metadata": {},
   "outputs": [
    {
     "data": {
      "image/png": "[encoded data removed]",
      "text/plain": [
       "<Figure size 432x288 with 1 Axes>"
      ]
     },
     "metadata": {
      "needs_background": "light"
     },
     "output_type": "display_data"
    }
   ],
   "source": [
    "sns.lineplot(Cancellation['Year'], Cancellation['Cancellation_Rate'],\n",
    "marker = 'o', color = 'red', label = 'Cancel')\n",
    "plt.title('Cancellation Rate', fontsize = 16)\n",
    "plt.xlabel('Year', fontsize = 12)\n",
    "plt.ylabel('Cancellation', fontsize = 12)\n",
    "plt.grid(color='darkgrey', linestyle=':', linewidth=0.5)\n",
    "plt.legend()\n",
    "plt.gca().set_xticks([2009, 2010, 2011])\n",
    "plt.gca().spines['top'].set_visible(False)\n",
    "plt.gca().spines['right'].set_visible(False)"
   ]
  },
  {
   "cell_type": "code",
   "execution_count": 63,
   "id": "bce96d59",
   "metadata": {},
   "outputs": [
    {
     "data": {
      "text/html": [
       "<div>\n",
       "<style scoped>\n",
       "    .dataframe tbody tr th:only-of-type {\n",
       "        vertical-align: middle;\n",
       "    }\n",
       "\n",
       "    .dataframe tbody tr th {\n",
       "        vertical-align: top;\n",
       "    }\n",
       "\n",
       "    .dataframe thead th {\n",
       "        text-align: right;\n",
       "    }\n",
       "</style>\n",
       "<table border=\"1\" class=\"dataframe\">\n",
       "  <thead>\n",
       "    <tr style=\"text-align: right;\">\n",
       "      <th></th>\n",
       "      <th>Year</th>\n",
       "      <th>Total_Finished</th>\n",
       "      <th>Total_Canceled</th>\n",
       "      <th>Cancellation_Rate</th>\n",
       "    </tr>\n",
       "  </thead>\n",
       "  <tbody>\n",
       "    <tr>\n",
       "      <th>0</th>\n",
       "      <td>2009</td>\n",
       "      <td>30279</td>\n",
       "      <td>1013</td>\n",
       "      <td>0.099860</td>\n",
       "    </tr>\n",
       "    <tr>\n",
       "      <th>1</th>\n",
       "      <td>2010</td>\n",
       "      <td>382156</td>\n",
       "      <td>9559</td>\n",
       "      <td>0.942307</td>\n",
       "    </tr>\n",
       "    <tr>\n",
       "      <th>2</th>\n",
       "      <td>2011</td>\n",
       "      <td>355004</td>\n",
       "      <td>8300</td>\n",
       "      <td>0.818198</td>\n",
       "    </tr>\n",
       "  </tbody>\n",
       "</table>\n",
       "</div>"
      ],
      "text/plain": [
       "   Year  Total_Finished  Total_Canceled  Cancellation_Rate\n",
       "0  2009           30279            1013           0.099860\n",
       "1  2010          382156            9559           0.942307\n",
       "2  2011          355004            8300           0.818198"
      ]
     },
     "execution_count": 63,
     "metadata": {},
     "output_type": "execute_result"
    }
   ],
   "source": [
    "Comparison = Cancellation\n",
    "Comparison['Total_Finished'] = Count_Finished['Invoice']\n",
    "Comparison['Total_Canceled'] = Comparison['Invoice']\n",
    "Comparison[['Year', 'Total_Finished', 'Total_Canceled', 'Cancellation_Rate']]"
   ]
  }
 ],
 "metadata": {
  "kernelspec": {
   "display_name": "Python 3 (ipykernel)",
   "language": "python",
   "name": "python3"
  },
  "language_info": {
   "codemirror_mode": {
    "name": "ipython",
    "version": 3
   },
   "file_extension": ".py",
   "mimetype": "text/x-python",
   "name": "python",
   "nbconvert_exporter": "python",
   "pygments_lexer": "ipython3",
   "version": "3.10.5"
  }
 },
 "nbformat": 4,
 "nbformat_minor": 5
}
